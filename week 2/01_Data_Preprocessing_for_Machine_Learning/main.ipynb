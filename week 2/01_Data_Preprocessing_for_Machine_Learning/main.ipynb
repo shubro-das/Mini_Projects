{
 "cells": [
  {
   "cell_type": "markdown",
   "id": "dcf50d16",
   "metadata": {},
   "source": [
    "Step 1: Load and Inspect"
   ]
  },
  {
   "cell_type": "code",
   "execution_count": 2,
   "id": "ed993cbd",
   "metadata": {},
   "outputs": [
    {
     "name": "stdout",
     "output_type": "stream",
     "text": [
      "   PassengerId  Survived  Pclass  \\\n",
      "0            1         0       3   \n",
      "1            2         1       1   \n",
      "2            3         1       3   \n",
      "3            4         1       1   \n",
      "4            5         0       3   \n",
      "\n",
      "                                                Name     Sex   Age  SibSp  \\\n",
      "0                            Braund, Mr. Owen Harris    male  22.0      1   \n",
      "1  Cumings, Mrs. John Bradley (Florence Briggs Th...  female  38.0      1   \n",
      "2                             Heikkinen, Miss. Laina  female  26.0      0   \n",
      "3       Futrelle, Mrs. Jacques Heath (Lily May Peel)  female  35.0      1   \n",
      "4                           Allen, Mr. William Henry    male  35.0      0   \n",
      "\n",
      "   Parch            Ticket     Fare Cabin Embarked  \n",
      "0      0         A/5 21171   7.2500   NaN        S  \n",
      "1      0          PC 17599  71.2833   C85        C  \n",
      "2      0  STON/O2. 3101282   7.9250   NaN        S  \n",
      "3      0            113803  53.1000  C123        S  \n",
      "4      0            373450   8.0500   NaN        S  \n",
      "<class 'pandas.core.frame.DataFrame'>\n",
      "RangeIndex: 891 entries, 0 to 890\n",
      "Data columns (total 12 columns):\n",
      " #   Column       Non-Null Count  Dtype  \n",
      "---  ------       --------------  -----  \n",
      " 0   PassengerId  891 non-null    int64  \n",
      " 1   Survived     891 non-null    int64  \n",
      " 2   Pclass       891 non-null    int64  \n",
      " 3   Name         891 non-null    object \n",
      " 4   Sex          891 non-null    object \n",
      " 5   Age          714 non-null    float64\n",
      " 6   SibSp        891 non-null    int64  \n",
      " 7   Parch        891 non-null    int64  \n",
      " 8   Ticket       891 non-null    object \n",
      " 9   Fare         891 non-null    float64\n",
      " 10  Cabin        204 non-null    object \n",
      " 11  Embarked     889 non-null    object \n",
      "dtypes: float64(2), int64(5), object(5)\n",
      "memory usage: 83.7+ KB\n",
      "None\n",
      "(891, 12)\n"
     ]
    }
   ],
   "source": [
    "import pandas as pd\n",
    "\n",
    "df = pd.read_csv(\"titanic.csv\")\n",
    "print(df.head())\n",
    "print(df.info())\n",
    "print(df.shape)"
   ]
  },
  {
   "cell_type": "markdown",
   "id": "8898755f",
   "metadata": {},
   "source": [
    "Step 2: Select Features\n",
    "\n",
    "Drop unneeded columns like PassengerId, Name, Ticket."
   ]
  },
  {
   "cell_type": "code",
   "execution_count": 3,
   "id": "7416daa9",
   "metadata": {},
   "outputs": [],
   "source": [
    "df.drop(columns=['PassengerId', 'Name', 'Ticket'], inplace=True)"
   ]
  },
  {
   "cell_type": "markdown",
   "id": "f1c3dc77",
   "metadata": {},
   "source": [
    "Step 3: Handle Missing Values\n",
    "1. Age (Numerical): 177 missing\n",
    "\n",
    "We'll fill with the median age, which is more robust to outliers than the mean.\n",
    "2. Embarked (Categorical): 2 missing\n",
    "\n",
    "Fill with the most frequent value (mode).\n",
    "3. Cabin (High missing ratio): 687 missing\n",
    "\n",
    "    Over 77% of the values are missing.\n",
    "\n",
    "    Best option: drop this column, unless you want to do feature engineering (e.g., extract deck info)."
   ]
  },
  {
   "cell_type": "code",
   "execution_count": 4,
   "id": "60527b2d",
   "metadata": {},
   "outputs": [
    {
     "name": "stderr",
     "output_type": "stream",
     "text": [
      "C:\\Users\\Lenovo\\AppData\\Local\\Temp\\ipykernel_27216\\4232182175.py:1: FutureWarning: A value is trying to be set on a copy of a DataFrame or Series through chained assignment using an inplace method.\n",
      "The behavior will change in pandas 3.0. This inplace method will never work because the intermediate object on which we are setting values always behaves as a copy.\n",
      "\n",
      "For example, when doing 'df[col].method(value, inplace=True)', try using 'df.method({col: value}, inplace=True)' or df[col] = df[col].method(value) instead, to perform the operation inplace on the original object.\n",
      "\n",
      "\n",
      "  df['Age'].fillna(df['Age'].median(), inplace=True)\n"
     ]
    }
   ],
   "source": [
    "df['Age'].fillna(df['Age'].median(), inplace=True)\n",
    "df['Embarked'].fillna(df['Embarked'].mode()[0], inplace=True)\n",
    "df.drop('Cabin', axis=1, inplace=True)"
   ]
  },
  {
   "cell_type": "markdown",
   "id": "17eb519f",
   "metadata": {},
   "source": [
    "Checking Null Values again"
   ]
  },
  {
   "cell_type": "code",
   "execution_count": 6,
   "id": "49299f06",
   "metadata": {},
   "outputs": [
    {
     "name": "stdout",
     "output_type": "stream",
     "text": [
      "(891, 8)\n"
     ]
    }
   ],
   "source": [
    "df.isnull().sum()  # Checking for null values again\n",
    "print(df.shape)"
   ]
  },
  {
   "cell_type": "markdown",
   "id": "ed6ea89f",
   "metadata": {},
   "source": [
    " Step 4: Encode Categorical Features"
   ]
  },
  {
   "cell_type": "code",
   "execution_count": 9,
   "id": "e385ddff",
   "metadata": {},
   "outputs": [
    {
     "name": "stdout",
     "output_type": "stream",
     "text": [
      "   Survived  Pclass   Age  SibSp  Parch     Fare  Sex_male  Embarked_Q  \\\n",
      "0         0       3  22.0      1      0   7.2500      True       False   \n",
      "1         1       1  38.0      1      0  71.2833     False       False   \n",
      "2         1       3  26.0      0      0   7.9250     False       False   \n",
      "3         1       1  35.0      1      0  53.1000     False       False   \n",
      "4         0       3  35.0      0      0   8.0500      True       False   \n",
      "\n",
      "   Embarked_S  \n",
      "0        True  \n",
      "1       False  \n",
      "2        True  \n",
      "3        True  \n",
      "4        True  \n"
     ]
    }
   ],
   "source": [
    "# One-Hot Encode 'Sex' and 'Embarked'\n",
    "df_encoded = pd.get_dummies(df, columns=['Sex', 'Embarked'], drop_first=True)\n",
    "\n",
    "# Check the result\n",
    "print(df_encoded.head())\n"
   ]
  },
  {
   "cell_type": "code",
   "execution_count": 17,
   "id": "b96bb884",
   "metadata": {},
   "outputs": [
    {
     "data": {
      "text/plain": [
       "array([0, 1, 2, 5, 3, 4, 6], dtype=int64)"
      ]
     },
     "execution_count": 17,
     "metadata": {},
     "output_type": "execute_result"
    }
   ],
   "source": [
    "df_encoded['Parch'].unique()"
   ]
  },
  {
   "cell_type": "markdown",
   "id": "9198520c",
   "metadata": {},
   "source": [
    "Step 5: Outlier Detection\n",
    "    Method 1: Visualization (Boxplots)\n",
    "    Method 2: IQR (Interquartile Range)"
   ]
  },
  {
   "cell_type": "code",
   "execution_count": 14,
   "id": "b26408ca",
   "metadata": {},
   "outputs": [
    {
     "data": {
      "image/png": "[encoded data removed]",
      "text/plain": [
       "<Figure size 1200x600 with 1 Axes>"
      ]
     },
     "metadata": {},
     "output_type": "display_data"
    }
   ],
   "source": [
    "import seaborn as sns\n",
    "import matplotlib.pyplot as plt\n",
    "\n",
    "plt.figure(figsize=(12, 6))\n",
    "sns.boxplot(data=df_encoded[['Age', 'Fare', 'SibSp', 'Parch']])\n",
    "plt.title('Boxplot for Outlier Detection')\n",
    "plt.show()\n"
   ]
  },
  {
   "cell_type": "code",
   "execution_count": 18,
   "id": "32fed56a",
   "metadata": {},
   "outputs": [
    {
     "name": "stdout",
     "output_type": "stream",
     "text": [
      "No. of Age outliers: 66\n",
      "No. of SibSp outliers: 46\n",
      "No. of Parch outliers: 213\n",
      "No. of Fare outliers: 116\n"
     ]
    }
   ],
   "source": [
    "# Define function to detect outliers using IQR\n",
    "def detect_outliers_iqr(df, column):\n",
    "    Q1 = df[column].quantile(0.25)\n",
    "    Q3 = df[column].quantile(0.75)\n",
    "    IQR = Q3 - Q1\n",
    "    lower = Q1 - 1.5 * IQR\n",
    "    upper = Q3 + 1.5 * IQR\n",
    "    return df[(df[column] < lower) | (df[column] > upper)]\n",
    "\n",
    "# Example: Find outliers in 'Fare'\n",
    "features = ['Age', 'SibSp', 'Parch', 'Fare']\n",
    "for feature in features:\n",
    "    outliers = detect_outliers_iqr(df_encoded, feature)\n",
    "    print(f'No. of {feature} outliers: {outliers.shape[0]}')"
   ]
  },
  {
   "cell_type": "markdown",
   "id": "41f497a0",
   "metadata": {},
   "source": [
    "Dealing with Outliers:\n",
    "1. Cap Extreme Ages\n",
    "2. Keep SibSp as is\n",
    "3. Cap Parch similarly to Age\n",
    "4. Cap Fare or Log-transform it"
   ]
  },
  {
   "cell_type": "code",
   "execution_count": 19,
   "id": "952590cc",
   "metadata": {},
   "outputs": [],
   "source": [
    "lower_age = df_encoded['Age'].quantile(0.01)\n",
    "upper_age = df_encoded['Age'].quantile(0.99)\n",
    "\n",
    "df_encoded['Age'] = df_encoded['Age'].clip(lower=lower_age, upper=upper_age)\n"
   ]
  },
  {
   "cell_type": "code",
   "execution_count": null,
   "id": "76e305b3",
   "metadata": {},
   "outputs": [],
   "source": [
    "lower_parch = df_encoded['Parch'].quantile(0.01)\n",
    "upper_parch = df_encoded['Parch'].quantile(0.99)\n",
    "\n",
    "df_encoded['Parch'] = df_encoded['Parch'].clip(lower=lower_parch, upper=upper_parch)\n"
   ]
  },
  {
   "cell_type": "code",
   "execution_count": 25,
   "id": "99b4899a",
   "metadata": {},
   "outputs": [
    {
     "data": {
      "image/png": "[encoded data removed]",
      "text/plain": [
       "<Figure size 1200x500 with 2 Axes>"
      ]
     },
     "metadata": {},
     "output_type": "display_data"
    }
   ],
   "source": [
    "df_encoded['Fare'] = df['Fare']\n",
    "\n",
    "import matplotlib.pyplot as plt\n",
    "import seaborn as sns\n",
    "import numpy as np\n",
    "\n",
    "plt.figure(figsize=(12, 5))\n",
    "\n",
    "# Original Fare distribution\n",
    "plt.subplot(1, 2, 1)\n",
    "sns.histplot(df_encoded['Fare'], bins=30, kde=True)\n",
    "plt.title('Original Fare Distribution')\n",
    "\n",
    "# Log-transformed Fare distribution (add 1 to avoid log(0))\n",
    "plt.subplot(1, 2, 2)\n",
    "sns.histplot(np.log1p(df_encoded['Fare']), bins=30, kde=True, color='orange')\n",
    "plt.title('Log-transformed Fare Distribution')\n",
    "\n",
    "plt.tight_layout()\n",
    "plt.show()\n"
   ]
  },
  {
   "cell_type": "code",
   "execution_count": 26,
   "id": "997b746c",
   "metadata": {},
   "outputs": [],
   "source": [
    "import numpy as np\n",
    "\n",
    "upper_fare = df_encoded['Fare'].quantile(0.99)\n",
    "df_encoded['Fare'] = df_encoded['Fare'].clip(upper=upper_fare)\n",
    "\n",
    "# Add log-transformed fare (+1 to avoid log(0))\n",
    "df_encoded['Fare'] = np.log1p(df_encoded['Fare'])\n"
   ]
  },
  {
   "cell_type": "code",
   "execution_count": 27,
   "id": "133594d3",
   "metadata": {},
   "outputs": [
    {
     "data": {
      "image/png": "[encoded data removed]",
      "text/plain": [
       "<Figure size 1200x500 with 1 Axes>"
      ]
     },
     "metadata": {},
     "output_type": "display_data"
    }
   ],
   "source": [
    "plt.figure(figsize=(12, 5))\n",
    "sns.histplot(df_encoded['Fare'], bins=30, kde=True, color='orange')\n",
    "plt.title('Log-transformed Fare Distribution')\n",
    "\n",
    "plt.tight_layout()\n",
    "plt.show()"
   ]
  },
  {
   "cell_type": "markdown",
   "id": "3e8f0199",
   "metadata": {},
   "source": [
    "Step 6: Feature Scaling"
   ]
  },
  {
   "cell_type": "code",
   "execution_count": 29,
   "id": "431b5fc5",
   "metadata": {},
   "outputs": [
    {
     "data": {
      "text/html": [
       "<div>\n",
       "<style scoped>\n",
       "    .dataframe tbody tr th:only-of-type {\n",
       "        vertical-align: middle;\n",
       "    }\n",
       "\n",
       "    .dataframe tbody tr th {\n",
       "        vertical-align: top;\n",
       "    }\n",
       "\n",
       "    .dataframe thead th {\n",
       "        text-align: right;\n",
       "    }\n",
       "</style>\n",
       "<table border=\"1\" class=\"dataframe\">\n",
       "  <thead>\n",
       "    <tr style=\"text-align: right;\">\n",
       "      <th></th>\n",
       "      <th>Survived</th>\n",
       "      <th>Pclass</th>\n",
       "      <th>Age</th>\n",
       "      <th>SibSp</th>\n",
       "      <th>Parch</th>\n",
       "      <th>Fare</th>\n",
       "      <th>Sex_male</th>\n",
       "      <th>Embarked_Q</th>\n",
       "      <th>Embarked_S</th>\n",
       "    </tr>\n",
       "  </thead>\n",
       "  <tbody>\n",
       "    <tr>\n",
       "      <th>0</th>\n",
       "      <td>0</td>\n",
       "      <td>3</td>\n",
       "      <td>22.0</td>\n",
       "      <td>1</td>\n",
       "      <td>0</td>\n",
       "      <td>2.110213</td>\n",
       "      <td>True</td>\n",
       "      <td>False</td>\n",
       "      <td>True</td>\n",
       "    </tr>\n",
       "    <tr>\n",
       "      <th>1</th>\n",
       "      <td>1</td>\n",
       "      <td>1</td>\n",
       "      <td>38.0</td>\n",
       "      <td>1</td>\n",
       "      <td>0</td>\n",
       "      <td>4.280593</td>\n",
       "      <td>False</td>\n",
       "      <td>False</td>\n",
       "      <td>False</td>\n",
       "    </tr>\n",
       "    <tr>\n",
       "      <th>2</th>\n",
       "      <td>1</td>\n",
       "      <td>3</td>\n",
       "      <td>26.0</td>\n",
       "      <td>0</td>\n",
       "      <td>0</td>\n",
       "      <td>2.188856</td>\n",
       "      <td>False</td>\n",
       "      <td>False</td>\n",
       "      <td>True</td>\n",
       "    </tr>\n",
       "    <tr>\n",
       "      <th>3</th>\n",
       "      <td>1</td>\n",
       "      <td>1</td>\n",
       "      <td>35.0</td>\n",
       "      <td>1</td>\n",
       "      <td>0</td>\n",
       "      <td>3.990834</td>\n",
       "      <td>False</td>\n",
       "      <td>False</td>\n",
       "      <td>True</td>\n",
       "    </tr>\n",
       "    <tr>\n",
       "      <th>4</th>\n",
       "      <td>0</td>\n",
       "      <td>3</td>\n",
       "      <td>35.0</td>\n",
       "      <td>0</td>\n",
       "      <td>0</td>\n",
       "      <td>2.202765</td>\n",
       "      <td>True</td>\n",
       "      <td>False</td>\n",
       "      <td>True</td>\n",
       "    </tr>\n",
       "  </tbody>\n",
       "</table>\n",
       "</div>"
      ],
      "text/plain": [
       "   Survived  Pclass   Age  SibSp  Parch      Fare  Sex_male  Embarked_Q  \\\n",
       "0         0       3  22.0      1      0  2.110213      True       False   \n",
       "1         1       1  38.0      1      0  4.280593     False       False   \n",
       "2         1       3  26.0      0      0  2.188856     False       False   \n",
       "3         1       1  35.0      1      0  3.990834     False       False   \n",
       "4         0       3  35.0      0      0  2.202765      True       False   \n",
       "\n",
       "   Embarked_S  \n",
       "0        True  \n",
       "1       False  \n",
       "2        True  \n",
       "3        True  \n",
       "4        True  "
      ]
     },
     "execution_count": 29,
     "metadata": {},
     "output_type": "execute_result"
    }
   ],
   "source": [
    "df_encoded.head()"
   ]
  },
  {
   "cell_type": "code",
   "execution_count": null,
   "id": "0c1c03a9",
   "metadata": {},
   "outputs": [
    {
     "data": {
      "text/html": [
       "<div>\n",
       "<style scoped>\n",
       "    .dataframe tbody tr th:only-of-type {\n",
       "        vertical-align: middle;\n",
       "    }\n",
       "\n",
       "    .dataframe tbody tr th {\n",
       "        vertical-align: top;\n",
       "    }\n",
       "\n",
       "    .dataframe thead th {\n",
       "        text-align: right;\n",
       "    }\n",
       "</style>\n",
       "<table border=\"1\" class=\"dataframe\">\n",
       "  <thead>\n",
       "    <tr style=\"text-align: right;\">\n",
       "      <th></th>\n",
       "      <th>Age</th>\n",
       "      <th>SibSp</th>\n",
       "      <th>Parch</th>\n",
       "      <th>Fare</th>\n",
       "    </tr>\n",
       "  </thead>\n",
       "  <tbody>\n",
       "    <tr>\n",
       "      <th>0</th>\n",
       "      <td>-0.569558</td>\n",
       "      <td>0.432793</td>\n",
       "      <td>-0.489905</td>\n",
       "      <td>-0.884451</td>\n",
       "    </tr>\n",
       "    <tr>\n",
       "      <th>1</th>\n",
       "      <td>0.677983</td>\n",
       "      <td>0.432793</td>\n",
       "      <td>-0.489905</td>\n",
       "      <td>1.375893</td>\n",
       "    </tr>\n",
       "    <tr>\n",
       "      <th>2</th>\n",
       "      <td>-0.257673</td>\n",
       "      <td>-0.474545</td>\n",
       "      <td>-0.489905</td>\n",
       "      <td>-0.802548</td>\n",
       "    </tr>\n",
       "    <tr>\n",
       "      <th>3</th>\n",
       "      <td>0.444069</td>\n",
       "      <td>0.432793</td>\n",
       "      <td>-0.489905</td>\n",
       "      <td>1.074123</td>\n",
       "    </tr>\n",
       "    <tr>\n",
       "      <th>4</th>\n",
       "      <td>0.444069</td>\n",
       "      <td>-0.474545</td>\n",
       "      <td>-0.489905</td>\n",
       "      <td>-0.788063</td>\n",
       "    </tr>\n",
       "  </tbody>\n",
       "</table>\n",
       "</div>"
      ],
      "text/plain": [
       "        Age     SibSp     Parch      Fare\n",
       "0 -0.569558  0.432793 -0.489905 -0.884451\n",
       "1  0.677983  0.432793 -0.489905  1.375893\n",
       "2 -0.257673 -0.474545 -0.489905 -0.802548\n",
       "3  0.444069  0.432793 -0.489905  1.074123\n",
       "4  0.444069 -0.474545 -0.489905 -0.788063"
      ]
     },
     "execution_count": 30,
     "metadata": {},
     "output_type": "execute_result"
    }
   ],
   "source": [
    "from sklearn.preprocessing import StandardScaler\n",
    "\n",
    "# List of features to scale\n",
    "num_features = ['Age', 'SibSp', 'Parch', 'Fare']\n",
    "\n",
    "# Initialize the scaler\n",
    "scaler = StandardScaler()\n",
    "\n",
    "# Fit and transform\n",
    "df_encoded_scaled = df_encoded.copy()\n",
    "df_encoded_scaled[num_features] = scaler.fit_transform(df_encoded[num_features])\n",
    "\n",
    "# Preview\n",
    "df_encoded_scaled[num_features].head()\n"
   ]
  },
  {
   "cell_type": "code",
   "execution_count": 31,
   "id": "4e99e754",
   "metadata": {},
   "outputs": [
    {
     "data": {
      "text/html": [
       "<div>\n",
       "<style scoped>\n",
       "    .dataframe tbody tr th:only-of-type {\n",
       "        vertical-align: middle;\n",
       "    }\n",
       "\n",
       "    .dataframe tbody tr th {\n",
       "        vertical-align: top;\n",
       "    }\n",
       "\n",
       "    .dataframe thead th {\n",
       "        text-align: right;\n",
       "    }\n",
       "</style>\n",
       "<table border=\"1\" class=\"dataframe\">\n",
       "  <thead>\n",
       "    <tr style=\"text-align: right;\">\n",
       "      <th></th>\n",
       "      <th>Survived</th>\n",
       "      <th>Pclass</th>\n",
       "      <th>Age</th>\n",
       "      <th>SibSp</th>\n",
       "      <th>Parch</th>\n",
       "      <th>Fare</th>\n",
       "      <th>Sex_male</th>\n",
       "      <th>Embarked_Q</th>\n",
       "      <th>Embarked_S</th>\n",
       "    </tr>\n",
       "  </thead>\n",
       "  <tbody>\n",
       "    <tr>\n",
       "      <th>0</th>\n",
       "      <td>0</td>\n",
       "      <td>3</td>\n",
       "      <td>-0.569558</td>\n",
       "      <td>0.432793</td>\n",
       "      <td>-0.489905</td>\n",
       "      <td>-0.884451</td>\n",
       "      <td>True</td>\n",
       "      <td>False</td>\n",
       "      <td>True</td>\n",
       "    </tr>\n",
       "    <tr>\n",
       "      <th>1</th>\n",
       "      <td>1</td>\n",
       "      <td>1</td>\n",
       "      <td>0.677983</td>\n",
       "      <td>0.432793</td>\n",
       "      <td>-0.489905</td>\n",
       "      <td>1.375893</td>\n",
       "      <td>False</td>\n",
       "      <td>False</td>\n",
       "      <td>False</td>\n",
       "    </tr>\n",
       "    <tr>\n",
       "      <th>2</th>\n",
       "      <td>1</td>\n",
       "      <td>3</td>\n",
       "      <td>-0.257673</td>\n",
       "      <td>-0.474545</td>\n",
       "      <td>-0.489905</td>\n",
       "      <td>-0.802548</td>\n",
       "      <td>False</td>\n",
       "      <td>False</td>\n",
       "      <td>True</td>\n",
       "    </tr>\n",
       "    <tr>\n",
       "      <th>3</th>\n",
       "      <td>1</td>\n",
       "      <td>1</td>\n",
       "      <td>0.444069</td>\n",
       "      <td>0.432793</td>\n",
       "      <td>-0.489905</td>\n",
       "      <td>1.074123</td>\n",
       "      <td>False</td>\n",
       "      <td>False</td>\n",
       "      <td>True</td>\n",
       "    </tr>\n",
       "    <tr>\n",
       "      <th>4</th>\n",
       "      <td>0</td>\n",
       "      <td>3</td>\n",
       "      <td>0.444069</td>\n",
       "      <td>-0.474545</td>\n",
       "      <td>-0.489905</td>\n",
       "      <td>-0.788063</td>\n",
       "      <td>True</td>\n",
       "      <td>False</td>\n",
       "      <td>True</td>\n",
       "    </tr>\n",
       "  </tbody>\n",
       "</table>\n",
       "</div>"
      ],
      "text/plain": [
       "   Survived  Pclass       Age     SibSp     Parch      Fare  Sex_male  \\\n",
       "0         0       3 -0.569558  0.432793 -0.489905 -0.884451      True   \n",
       "1         1       1  0.677983  0.432793 -0.489905  1.375893     False   \n",
       "2         1       3 -0.257673 -0.474545 -0.489905 -0.802548     False   \n",
       "3         1       1  0.444069  0.432793 -0.489905  1.074123     False   \n",
       "4         0       3  0.444069 -0.474545 -0.489905 -0.788063      True   \n",
       "\n",
       "   Embarked_Q  Embarked_S  \n",
       "0       False        True  \n",
       "1       False       False  \n",
       "2       False        True  \n",
       "3       False        True  \n",
       "4       False        True  "
      ]
     },
     "execution_count": 31,
     "metadata": {},
     "output_type": "execute_result"
    }
   ],
   "source": [
    "df_encoded_scaled.head()"
   ]
  }
 ],
 "metadata": {
  "kernelspec": {
   "display_name": "Python 3",
   "language": "python",
   "name": "python3"
  },
  "language_info": {
   "codemirror_mode": {
    "name": "ipython",
    "version": 3
   },
   "file_extension": ".py",
   "mimetype": "text/x-python",
   "name": "python",
   "nbconvert_exporter": "python",
   "pygments_lexer": "ipython3",
   "version": "3.11.9"
  }
 },
 "nbformat": 4,
 "nbformat_minor": 5
}
