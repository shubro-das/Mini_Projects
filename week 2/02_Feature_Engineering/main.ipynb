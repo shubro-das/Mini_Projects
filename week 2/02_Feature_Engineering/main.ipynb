{
 "cells": [
  {
   "cell_type": "markdown",
   "id": "ff8f9563",
   "metadata": {},
   "source": [
    "Step 1: Loading the dataset"
   ]
  },
  {
   "cell_type": "code",
   "execution_count": 7,
   "id": "f611fa2c",
   "metadata": {},
   "outputs": [
    {
     "name": "stdout",
     "output_type": "stream",
     "text": [
      "Shape: (541909, 8)\n",
      "Columns: ['InvoiceNo', 'StockCode', 'Description', 'Quantity', 'InvoiceDate', 'UnitPrice', 'CustomerID', 'Country']\n"
     ]
    },
    {
     "data": {
      "text/html": [
       "<div>\n",
       "<style scoped>\n",
       "    .dataframe tbody tr th:only-of-type {\n",
       "        vertical-align: middle;\n",
       "    }\n",
       "\n",
       "    .dataframe tbody tr th {\n",
       "        vertical-align: top;\n",
       "    }\n",
       "\n",
       "    .dataframe thead th {\n",
       "        text-align: right;\n",
       "    }\n",
       "</style>\n",
       "<table border=\"1\" class=\"dataframe\">\n",
       "  <thead>\n",
       "    <tr style=\"text-align: right;\">\n",
       "      <th></th>\n",
       "      <th>InvoiceNo</th>\n",
       "      <th>StockCode</th>\n",
       "      <th>Description</th>\n",
       "      <th>Quantity</th>\n",
       "      <th>InvoiceDate</th>\n",
       "      <th>UnitPrice</th>\n",
       "      <th>CustomerID</th>\n",
       "      <th>Country</th>\n",
       "    </tr>\n",
       "  </thead>\n",
       "  <tbody>\n",
       "    <tr>\n",
       "      <th>60135</th>\n",
       "      <td>541421</td>\n",
       "      <td>22249</td>\n",
       "      <td>DECORATION WHITE CHICK MAGIC GARDEN</td>\n",
       "      <td>29</td>\n",
       "      <td>1/17/2011 17:44</td>\n",
       "      <td>0.79</td>\n",
       "      <td>NaN</td>\n",
       "      <td>United Kingdom</td>\n",
       "    </tr>\n",
       "    <tr>\n",
       "      <th>467651</th>\n",
       "      <td>576364</td>\n",
       "      <td>22557</td>\n",
       "      <td>PLASTERS IN TIN VINTAGE PAISLEY</td>\n",
       "      <td>4</td>\n",
       "      <td>11/14/2011 17:40</td>\n",
       "      <td>1.65</td>\n",
       "      <td>15009.0</td>\n",
       "      <td>United Kingdom</td>\n",
       "    </tr>\n",
       "    <tr>\n",
       "      <th>117376</th>\n",
       "      <td>546384</td>\n",
       "      <td>22262</td>\n",
       "      <td>FELT EGG COSY CHICKEN</td>\n",
       "      <td>19</td>\n",
       "      <td>3/11/2011 13:03</td>\n",
       "      <td>0.85</td>\n",
       "      <td>15311.0</td>\n",
       "      <td>United Kingdom</td>\n",
       "    </tr>\n",
       "    <tr>\n",
       "      <th>225698</th>\n",
       "      <td>556728</td>\n",
       "      <td>21876</td>\n",
       "      <td>POTTERING MUG</td>\n",
       "      <td>3</td>\n",
       "      <td>6/14/2011 11:36</td>\n",
       "      <td>1.25</td>\n",
       "      <td>15719.0</td>\n",
       "      <td>United Kingdom</td>\n",
       "    </tr>\n",
       "    <tr>\n",
       "      <th>456339</th>\n",
       "      <td>575687</td>\n",
       "      <td>20971</td>\n",
       "      <td>PINK BLUE FELT CRAFT TRINKET BOX</td>\n",
       "      <td>72</td>\n",
       "      <td>11/10/2011 16:03</td>\n",
       "      <td>1.25</td>\n",
       "      <td>16126.0</td>\n",
       "      <td>United Kingdom</td>\n",
       "    </tr>\n",
       "    <tr>\n",
       "      <th>213804</th>\n",
       "      <td>555558</td>\n",
       "      <td>22383</td>\n",
       "      <td>LUNCH BAG SUKI DESIGN</td>\n",
       "      <td>2</td>\n",
       "      <td>6/5/2011 14:06</td>\n",
       "      <td>1.65</td>\n",
       "      <td>14159.0</td>\n",
       "      <td>United Kingdom</td>\n",
       "    </tr>\n",
       "    <tr>\n",
       "      <th>275084</th>\n",
       "      <td>560934</td>\n",
       "      <td>23208</td>\n",
       "      <td>LUNCH BAG VINTAGE LEAF DESIGN</td>\n",
       "      <td>20</td>\n",
       "      <td>7/22/2011 10:48</td>\n",
       "      <td>1.65</td>\n",
       "      <td>16722.0</td>\n",
       "      <td>United Kingdom</td>\n",
       "    </tr>\n",
       "    <tr>\n",
       "      <th>126926</th>\n",
       "      <td>547106</td>\n",
       "      <td>22692</td>\n",
       "      <td>DOORMAT WELCOME TO OUR HOME</td>\n",
       "      <td>1</td>\n",
       "      <td>3/21/2011 11:24</td>\n",
       "      <td>7.95</td>\n",
       "      <td>15039.0</td>\n",
       "      <td>United Kingdom</td>\n",
       "    </tr>\n",
       "  </tbody>\n",
       "</table>\n",
       "</div>"
      ],
      "text/plain": [
       "       InvoiceNo StockCode                          Description  Quantity  \\\n",
       "60135     541421     22249  DECORATION WHITE CHICK MAGIC GARDEN        29   \n",
       "467651    576364     22557     PLASTERS IN TIN VINTAGE PAISLEY          4   \n",
       "117376    546384     22262                FELT EGG COSY CHICKEN        19   \n",
       "225698    556728     21876                        POTTERING MUG         3   \n",
       "456339    575687     20971     PINK BLUE FELT CRAFT TRINKET BOX        72   \n",
       "213804    555558     22383               LUNCH BAG SUKI DESIGN          2   \n",
       "275084    560934     23208        LUNCH BAG VINTAGE LEAF DESIGN        20   \n",
       "126926    547106     22692          DOORMAT WELCOME TO OUR HOME         1   \n",
       "\n",
       "             InvoiceDate  UnitPrice  CustomerID         Country  \n",
       "60135    1/17/2011 17:44       0.79         NaN  United Kingdom  \n",
       "467651  11/14/2011 17:40       1.65     15009.0  United Kingdom  \n",
       "117376   3/11/2011 13:03       0.85     15311.0  United Kingdom  \n",
       "225698   6/14/2011 11:36       1.25     15719.0  United Kingdom  \n",
       "456339  11/10/2011 16:03       1.25     16126.0  United Kingdom  \n",
       "213804    6/5/2011 14:06       1.65     14159.0  United Kingdom  \n",
       "275084   7/22/2011 10:48       1.65     16722.0  United Kingdom  \n",
       "126926   3/21/2011 11:24       7.95     15039.0  United Kingdom  "
      ]
     },
     "execution_count": 7,
     "metadata": {},
     "output_type": "execute_result"
    }
   ],
   "source": [
    "import pandas as pd\n",
    "\n",
    "df = pd.read_csv('online_retail.csv')\n",
    "print(\"Shape:\", df.shape)\n",
    "print(\"Columns:\", df.columns.tolist())\n",
    "df.sample(8)\n"
   ]
  },
  {
   "cell_type": "markdown",
   "id": "cbee7363",
   "metadata": {},
   "source": [
    "Step 2: Checking for null values"
   ]
  },
  {
   "cell_type": "code",
   "execution_count": 9,
   "id": "6743208a",
   "metadata": {},
   "outputs": [
    {
     "name": "stdout",
     "output_type": "stream",
     "text": [
      "InvoiceNo           0\n",
      "StockCode           0\n",
      "Description      1454\n",
      "Quantity            0\n",
      "InvoiceDate         0\n",
      "UnitPrice           0\n",
      "CustomerID     135080\n",
      "Country             0\n",
      "dtype: int64\n",
      "<class 'pandas.core.frame.DataFrame'>\n",
      "RangeIndex: 541909 entries, 0 to 541908\n",
      "Data columns (total 8 columns):\n",
      " #   Column       Non-Null Count   Dtype  \n",
      "---  ------       --------------   -----  \n",
      " 0   InvoiceNo    541909 non-null  object \n",
      " 1   StockCode    541909 non-null  object \n",
      " 2   Description  540455 non-null  object \n",
      " 3   Quantity     541909 non-null  int64  \n",
      " 4   InvoiceDate  541909 non-null  object \n",
      " 5   UnitPrice    541909 non-null  float64\n",
      " 6   CustomerID   406829 non-null  float64\n",
      " 7   Country      541909 non-null  object \n",
      "dtypes: float64(2), int64(1), object(5)\n",
      "memory usage: 33.1+ MB\n"
     ]
    }
   ],
   "source": [
    "print(df.isnull().sum())\n",
    "df.info()"
   ]
  },
  {
   "cell_type": "markdown",
   "id": "c6cb5f2b",
   "metadata": {},
   "source": [
    "Step 3: Dropping rows that don't include CustomerID"
   ]
  },
  {
   "cell_type": "code",
   "execution_count": null,
   "id": "d9e38e79",
   "metadata": {},
   "outputs": [],
   "source": [
    "df_all = df.copy()  # full dataset\n",
    "df = df[df['CustomerID'].notna()]  # filtered for feature engineering"
   ]
  },
  {
   "cell_type": "code",
   "execution_count": 14,
   "id": "5446b9d8",
   "metadata": {},
   "outputs": [],
   "source": [
    "# Reset index after drop\n",
    "df_clean = df.reset_index(drop=True)"
   ]
  },
  {
   "cell_type": "code",
   "execution_count": 43,
   "id": "d2287b6d",
   "metadata": {},
   "outputs": [
    {
     "data": {
      "text/plain": [
       "(397924, 8)"
      ]
     },
     "execution_count": 43,
     "metadata": {},
     "output_type": "execute_result"
    }
   ],
   "source": [
    "df_clean = df_clean[df_clean['Quantity'] > 0]\n",
    "df_clean.shape"
   ]
  },
  {
   "cell_type": "markdown",
   "id": "97648461",
   "metadata": {},
   "source": [
    "After dropping, the dataset shape is: (397924, 8)"
   ]
  },
  {
   "cell_type": "markdown",
   "id": "f903ce24",
   "metadata": {},
   "source": [
    "Create Revenue = Quantity * UnitPrice"
   ]
  },
  {
   "cell_type": "markdown",
   "id": "9b759b4a",
   "metadata": {},
   "source": [
    "Step 4: Creating new features"
   ]
  },
  {
   "cell_type": "code",
   "execution_count": 45,
   "id": "8cbcf553",
   "metadata": {},
   "outputs": [],
   "source": [
    "# Convert Quantity and UnitPrice to numeric (if not already)\n",
    "df_clean['Quantity'] = pd.to_numeric(df_clean['Quantity'], errors='coerce')\n",
    "df_clean['UnitPrice'] = pd.to_numeric(df_clean['UnitPrice'], errors='coerce')\n",
    "\n",
    "# Revenue column\n",
    "df_clean['Revenue'] = df_clean['Quantity'] * df_clean['UnitPrice']\n"
   ]
  },
  {
   "cell_type": "markdown",
   "id": "7f7155cb",
   "metadata": {},
   "source": [
    "Parse InvoiceDate to date time"
   ]
  },
  {
   "cell_type": "code",
   "execution_count": 46,
   "id": "c123b8fb",
   "metadata": {},
   "outputs": [],
   "source": [
    "df_clean['InvoiceDate'] = pd.to_datetime(df_clean['InvoiceDate'], format='%m/%d/%Y %H:%M')\n"
   ]
  },
  {
   "cell_type": "code",
   "execution_count": 47,
   "id": "b4cf15e9",
   "metadata": {},
   "outputs": [
    {
     "data": {
      "text/plain": [
       "0   2010-12-01 08:26:00\n",
       "1   2010-12-01 08:26:00\n",
       "2   2010-12-01 08:26:00\n",
       "3   2010-12-01 08:26:00\n",
       "4   2010-12-01 08:26:00\n",
       "Name: InvoiceDate, dtype: datetime64[ns]"
      ]
     },
     "execution_count": 47,
     "metadata": {},
     "output_type": "execute_result"
    }
   ],
   "source": [
    "df_clean['InvoiceDate'].head()"
   ]
  },
  {
   "cell_type": "markdown",
   "id": "eceee851",
   "metadata": {},
   "source": [
    "Extract Date & Time Features\n",
    "\n",
    "From InvoiceDate, create these features:\n",
    "\n",
    "    Year\n",
    "\n",
    "    Month\n",
    "\n",
    "    Day\n",
    "\n",
    "    Weekday (0 = Monday, 6 = Sunday)\n",
    "\n",
    "    Hour"
   ]
  },
  {
   "cell_type": "code",
   "execution_count": 48,
   "id": "9a50d989",
   "metadata": {},
   "outputs": [],
   "source": [
    "df_clean['Year'] = df_clean['InvoiceDate'].dt.year\n",
    "df_clean['Month'] = df_clean['InvoiceDate'].dt.month\n",
    "df_clean['Day'] = df_clean['InvoiceDate'].dt.day\n",
    "df_clean['Weekday'] = df_clean['InvoiceDate'].dt.weekday\n",
    "df_clean['Hour'] = df_clean['InvoiceDate'].dt.hour\n"
   ]
  },
  {
   "cell_type": "code",
   "execution_count": 49,
   "id": "7f1cb218",
   "metadata": {},
   "outputs": [
    {
     "data": {
      "text/html": [
       "<div>\n",
       "<style scoped>\n",
       "    .dataframe tbody tr th:only-of-type {\n",
       "        vertical-align: middle;\n",
       "    }\n",
       "\n",
       "    .dataframe tbody tr th {\n",
       "        vertical-align: top;\n",
       "    }\n",
       "\n",
       "    .dataframe thead th {\n",
       "        text-align: right;\n",
       "    }\n",
       "</style>\n",
       "<table border=\"1\" class=\"dataframe\">\n",
       "  <thead>\n",
       "    <tr style=\"text-align: right;\">\n",
       "      <th></th>\n",
       "      <th>InvoiceNo</th>\n",
       "      <th>StockCode</th>\n",
       "      <th>Description</th>\n",
       "      <th>Quantity</th>\n",
       "      <th>InvoiceDate</th>\n",
       "      <th>UnitPrice</th>\n",
       "      <th>CustomerID</th>\n",
       "      <th>Country</th>\n",
       "      <th>Revenue</th>\n",
       "      <th>Year</th>\n",
       "      <th>Month</th>\n",
       "      <th>Day</th>\n",
       "      <th>Weekday</th>\n",
       "      <th>Hour</th>\n",
       "    </tr>\n",
       "  </thead>\n",
       "  <tbody>\n",
       "    <tr>\n",
       "      <th>339071</th>\n",
       "      <td>575148</td>\n",
       "      <td>23133</td>\n",
       "      <td>LARGE IVORY HEART WALL ORGANISER</td>\n",
       "      <td>2</td>\n",
       "      <td>2011-11-08 15:48:00</td>\n",
       "      <td>8.25</td>\n",
       "      <td>13867.0</td>\n",
       "      <td>United Kingdom</td>\n",
       "      <td>16.5</td>\n",
       "      <td>2011</td>\n",
       "      <td>11</td>\n",
       "      <td>8</td>\n",
       "      <td>1</td>\n",
       "      <td>15</td>\n",
       "    </tr>\n",
       "    <tr>\n",
       "      <th>16133</th>\n",
       "      <td>538354</td>\n",
       "      <td>21035</td>\n",
       "      <td>SET/2 RED RETROSPOT TEA TOWELS</td>\n",
       "      <td>6</td>\n",
       "      <td>2010-12-10 15:45:00</td>\n",
       "      <td>2.95</td>\n",
       "      <td>16873.0</td>\n",
       "      <td>United Kingdom</td>\n",
       "      <td>17.7</td>\n",
       "      <td>2010</td>\n",
       "      <td>12</td>\n",
       "      <td>10</td>\n",
       "      <td>4</td>\n",
       "      <td>15</td>\n",
       "    </tr>\n",
       "    <tr>\n",
       "      <th>271921</th>\n",
       "      <td>569046</td>\n",
       "      <td>23329</td>\n",
       "      <td>DECORATIVE WICKER HEART LARGE</td>\n",
       "      <td>12</td>\n",
       "      <td>2011-09-30 10:48:00</td>\n",
       "      <td>1.65</td>\n",
       "      <td>14422.0</td>\n",
       "      <td>United Kingdom</td>\n",
       "      <td>19.8</td>\n",
       "      <td>2011</td>\n",
       "      <td>9</td>\n",
       "      <td>30</td>\n",
       "      <td>4</td>\n",
       "      <td>10</td>\n",
       "    </tr>\n",
       "  </tbody>\n",
       "</table>\n",
       "</div>"
      ],
      "text/plain": [
       "       InvoiceNo StockCode                       Description  Quantity  \\\n",
       "339071    575148     23133  LARGE IVORY HEART WALL ORGANISER         2   \n",
       "16133     538354     21035   SET/2 RED RETROSPOT TEA TOWELS          6   \n",
       "271921    569046     23329     DECORATIVE WICKER HEART LARGE        12   \n",
       "\n",
       "               InvoiceDate  UnitPrice  CustomerID         Country  Revenue  \\\n",
       "339071 2011-11-08 15:48:00       8.25     13867.0  United Kingdom     16.5   \n",
       "16133  2010-12-10 15:45:00       2.95     16873.0  United Kingdom     17.7   \n",
       "271921 2011-09-30 10:48:00       1.65     14422.0  United Kingdom     19.8   \n",
       "\n",
       "        Year  Month  Day  Weekday  Hour  \n",
       "339071  2011     11    8        1    15  \n",
       "16133   2010     12   10        4    15  \n",
       "271921  2011      9   30        4    10  "
      ]
     },
     "execution_count": 49,
     "metadata": {},
     "output_type": "execute_result"
    }
   ],
   "source": [
    "df_clean.sample(3)"
   ]
  },
  {
   "cell_type": "markdown",
   "id": "e29edb61",
   "metadata": {},
   "source": [
    "Step 5:  Cyclical Encoding of Month & Weekday"
   ]
  },
  {
   "cell_type": "code",
   "execution_count": 50,
   "id": "d3b006d2",
   "metadata": {},
   "outputs": [],
   "source": [
    "import numpy as np\n",
    "\n",
    "# Month cyclical encoding\n",
    "df_clean['Month_sin'] = np.sin(2 * np.pi * df_clean['Month'] / 12)\n",
    "df_clean['Month_cos'] = np.cos(2 * np.pi * df_clean['Month'] / 12)\n",
    "\n",
    "# Weekday cyclical encoding\n",
    "df_clean['Weekday_sin'] = np.sin(2 * np.pi * df_clean['Weekday'] / 7)\n",
    "df_clean['Weekday_cos'] = np.cos(2 * np.pi * df_clean['Weekday'] / 7)\n"
   ]
  },
  {
   "cell_type": "markdown",
   "id": "4d839efe",
   "metadata": {},
   "source": [
    "Step 6:  Create Interaction Features\n",
    "    Bin Revenue into Ranges (High/Medium/Low)\n",
    "    Create a Feature: Is Weekday/Weekend?"
   ]
  },
  {
   "cell_type": "code",
   "execution_count": 51,
   "id": "683bf1ef",
   "metadata": {},
   "outputs": [],
   "source": [
    "df_clean['Revenue_bin'] = pd.qcut(df_clean['Revenue'], q=3, labels=['Low', 'Medium', 'High'])\n",
    "df_clean['Is_Weekend'] = df_clean['Weekday'].apply(lambda x: 1 if x >= 5 else 0)\n"
   ]
  },
  {
   "cell_type": "markdown",
   "id": "960a703f",
   "metadata": {},
   "source": [
    "Step 7: Visualize Impact of New Features on Spending\n",
    "     1. Month-wise Revenue by Year (Line Plot)\n",
    "     2. Average Revenue by Weekday\n",
    "\n",
    "We’ll use Seaborn and Matplotlib to explore how features like Month, Weekday, Revenue_bin, and Is_Weekend affect revenue."
   ]
  },
  {
   "cell_type": "code",
   "execution_count": 57,
   "id": "18ea5310",
   "metadata": {},
   "outputs": [
    {
     "data": {
      "text/plain": [
       "count                           397924\n",
       "mean     2011-07-10 23:43:36.912475648\n",
       "min                2010-12-01 08:26:00\n",
       "25%                2011-04-07 11:12:00\n",
       "50%                2011-07-31 14:39:00\n",
       "75%                2011-10-20 14:33:00\n",
       "max                2011-12-09 12:50:00\n",
       "Name: InvoiceDate, dtype: object"
      ]
     },
     "execution_count": 57,
     "metadata": {},
     "output_type": "execute_result"
    }
   ],
   "source": [
    "df_clean['InvoiceDate'].describe()"
   ]
  },
  {
   "cell_type": "code",
   "execution_count": 58,
   "id": "1d9af9cd",
   "metadata": {},
   "outputs": [
    {
     "data": {
      "image/png": "[encoded data removed]",
      "text/plain": [
       "<Figure size 1200x600 with 1 Axes>"
      ]
     },
     "metadata": {},
     "output_type": "display_data"
    }
   ],
   "source": [
    "import seaborn as sns\n",
    "import matplotlib.pyplot as plt\n",
    "monthly_revenue = df_clean.groupby(['Year', 'Month'])['Revenue'].sum().reset_index()\n",
    "\n",
    "# Plot\n",
    "plt.figure(figsize=(12,6))\n",
    "sns.lineplot(x='Month', y='Revenue', hue='Year', data=monthly_revenue, marker='o')\n",
    "plt.title('Monthly Revenue by Year')\n",
    "plt.xticks(ticks=range(1,13))  # To show 1 to 12\n",
    "plt.show()"
   ]
  },
  {
   "cell_type": "code",
   "execution_count": null,
   "id": "5d22d872",
   "metadata": {},
   "outputs": [
    {
     "data": {
      "image/png": "[encoded data removed]",
      "text/plain": [
       "<Figure size 1000x500 with 1 Axes>"
      ]
     },
     "metadata": {},
     "output_type": "display_data"
    }
   ],
   "source": [
    "\n",
    "\n",
    "monthly_avg = df_clean.groupby('Month')['Revenue'].mean().reset_index()\n",
    "\n",
    "plt.figure(figsize=(10,5))\n",
    "sns.barplot(x='Month', y='Revenue', data=monthly_avg)\n",
    "plt.title('Average Revenue by Month')\n",
    "plt.ylabel('Avg Revenue')\n",
    "plt.show()\n"
   ]
  },
  {
   "cell_type": "code",
   "execution_count": 59,
   "id": "7375bbe5",
   "metadata": {},
   "outputs": [
    {
     "data": {
      "image/png": "[encoded data removed]",
      "text/plain": [
       "<Figure size 1000x500 with 1 Axes>"
      ]
     },
     "metadata": {},
     "output_type": "display_data"
    }
   ],
   "source": [
    "plt.figure(figsize=(10,5))\n",
    "sns.barplot(x='Weekday', y='Revenue', data=df_clean, estimator=np.mean)\n",
    "plt.title('Average Revenue by Day of Week')\n",
    "plt.xlabel('Weekday (0=Monday, 6=Sunday)')\n",
    "plt.ylabel('Average Revenue')\n",
    "plt.show()\n",
    "\n"
   ]
  },
  {
   "cell_type": "code",
   "execution_count": 61,
   "id": "f132cba9",
   "metadata": {},
   "outputs": [
    {
     "name": "stderr",
     "output_type": "stream",
     "text": [
      "C:\\Users\\Lenovo\\AppData\\Local\\Temp\\ipykernel_1108\\1015130749.py:1: FutureWarning: \n",
      "\n",
      "Passing `palette` without assigning `hue` is deprecated and will be removed in v0.14.0. Assign the `x` variable to `hue` and set `legend=False` for the same effect.\n",
      "\n",
      "  sns.countplot(x='Revenue_bin', data=df_clean, palette='Set2')\n"
     ]
    },
    {
     "data": {
      "image/png": "[encoded data removed]",
      "text/plain": [
       "<Figure size 640x480 with 1 Axes>"
      ]
     },
     "metadata": {},
     "output_type": "display_data"
    }
   ],
   "source": [
    "sns.countplot(x='Revenue_bin', data=df_clean, palette='Set2')\n",
    "plt.title('Revenue Category Distribution')\n",
    "plt.show()\n",
    "\n"
   ]
  }
 ],
 "metadata": {
  "kernelspec": {
   "display_name": "Python 3",
   "language": "python",
   "name": "python3"
  },
  "language_info": {
   "codemirror_mode": {
    "name": "ipython",
    "version": 3
   },
   "file_extension": ".py",
   "mimetype": "text/x-python",
   "name": "python",
   "nbconvert_exporter": "python",
   "pygments_lexer": "ipython3",
   "version": "3.11.9"
  }
 },
 "nbformat": 4,
 "nbformat_minor": 5
}
